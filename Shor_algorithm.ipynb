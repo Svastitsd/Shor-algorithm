{
 "cells": [
  {
   "cell_type": "code",
   "execution_count": 2,
   "metadata": {},
   "outputs": [],
   "source": [
    "%matplotlib inline\n",
    "# Importing standard Qiskit libraries\n",
    "from qiskit import QuantumCircuit, execute, Aer, IBMQ, QuantumRegister\n",
    "from qiskit.compiler import transpile, assemble\n",
    "from qiskit.tools.jupyter import *\n",
    "from qiskit.visualization import *\n",
    "from ibm_quantum_widgets import *\n",
    "\n",
    "import qiskit as qk\n",
    "import numpy as np\n",
    "import matplotlib.pyplot as plt\n",
    "from qiskit.providers.ibmq import least_busy\n",
    "from qiskit.tools.monitor import job_monitor\n",
    "import qiskit.quantum_info as qi\n",
    "import qiskit.circuit.library as ql\n",
    "\n",
    "import random\n",
    "import numpy as np\n",
    "from qiskit.visualization import plot_histogram\n",
    "from qiskit.providers.aer.noise import NoiseModel\n",
    "import qiskit.providers.aer.noise as noise\n",
    "import json\n",
    "\n",
    "# Loading your IBM Q account(s)\n",
    "provider = IBMQ.load_account()"
   ]
  },
  {
   "cell_type": "markdown",
   "metadata": {},
   "source": [
    "## Számelméleti segédfüggvények"
   ]
  },
  {
   "cell_type": "code",
   "execution_count": 3,
   "metadata": {},
   "outputs": [],
   "source": [
    "def cont_frac(p, q, a=[]):\n",
    "    b = list(np.copy(a))\n",
    "    b.append(p//q)\n",
    "    if p%q == 0:\n",
    "        return b\n",
    "    return cont_frac(q, p-(p//q)*q, b)\n",
    "\n",
    "def convergents(a):\n",
    "    if len(a) == 1:\n",
    "        return a[0], 1\n",
    "    p = [a[0], 1+a[0]*a[1]]\n",
    "    q = [1, a[1]]\n",
    "    for i in range(2, len(a)):\n",
    "        p.append(a[i]*p[i-1]+p[i-2])\n",
    "        q.append(a[i]*q[i-1]+q[i-2])\n",
    "    return p, q\n",
    "\n",
    "def order_classic(a, N): \n",
    "    if gcd(a, N)[1] != 1:\n",
    "        raise ValueError(\"a and N have to be coprime\")\n",
    "    s = 1\n",
    "    i = 0\n",
    "    while i == 0 or s != 1:\n",
    "        s = (a*s) % N\n",
    "        i += 1\n",
    "    return i"
   ]
  },
  {
   "cell_type": "code",
   "execution_count": 4,
   "metadata": {},
   "outputs": [],
   "source": [
    "def int_nth_root(A, n): #calculate floor of nth root of A\n",
    "    if A<0:\n",
    "        if n%2 == 0:\n",
    "            raise ValueError\n",
    "        return -int_nth_root(-A,n)\n",
    "    if A==0:\n",
    "        return 0\n",
    "    n1 = n-1\n",
    "    if A.bit_length() < 1024: # float(n) safe from overflow\n",
    "        xk = int( round( pow(A,1.0/n) ) )\n",
    "        xk = ( n1*xk + A//pow(xk,n1) )//n # Ensure xk >= floor(nthroot(A)).\n",
    "    else:\n",
    "        xk = 1 << -(-A.bit_length()//n) # 1 << sum(divmod(A.bit_length(),n))\n",
    "                                        # power of 2 closer but greater than the nth root of A\n",
    "    while True:\n",
    "        d = A // pow(xk,n1)\n",
    "        if xk <= d:\n",
    "            return xk\n",
    "        xk = (n1*xk + d)//n"
   ]
  },
  {
   "cell_type": "code",
   "execution_count": 5,
   "metadata": {},
   "outputs": [],
   "source": [
    "def two_pow(A, k): # computes A**(2**k), A: L bit int\n",
    "    result = np.copy(A)\n",
    "    for i in range(k): # k multiplying operations\n",
    "        result = result**2 \n",
    "    return result  # if k < L: max O(L^3) operations\n",
    "\n",
    "def int_pow(A, n): # computes A**n in polynomal time, A: L bit int\n",
    "    n_bin = list(bin(n))\n",
    "    index = n_bin.index('b')\n",
    "    n_bin = n_bin[index+1:]\n",
    "    l = len(n_bin) # l < log(L)\n",
    "    result = 1\n",
    "    for i in range(l):\n",
    "        bit = int(n_bin[l-i-1])\n",
    "        if bit == 1:\n",
    "            result = result*two_pow(A, i)\n",
    "    return result # if n < A: max O(L^4) operations"
   ]
  },
  {
   "cell_type": "code",
   "execution_count": 6,
   "metadata": {},
   "outputs": [],
   "source": [
    "def two_pow_mod(A, k, N): #computes A**(2**k) mod N, A: L bit int\n",
    "    result = np.copy(A)\n",
    "    for i in range(k): # k multiplying operations\n",
    "        result = result**2 % N\n",
    "    return result  # if  k < L: max O(L^3)\n",
    "\n",
    "def int_pow_mod(A, n, N): #computes A**n mod N in polynomal time, A: L bit integer\n",
    "    n_bin = list(bin(n))\n",
    "    index = n_bin.index('b')\n",
    "    n_bin = n_bin[index+1:]\n",
    "    l = len(n_bin) # l < log(L)\n",
    "    result = 1\n",
    "    for i in range(l):\n",
    "        bit = int(n_bin[l-i-1])\n",
    "        if bit == 1:\n",
    "            result = result*two_pow_mod(A, i, N) % N\n",
    "    return result # if n < A:max O(L^4) operations"
   ]
  },
  {
   "cell_type": "code",
   "execution_count": 7,
   "metadata": {},
   "outputs": [],
   "source": [
    "# determines if n is probably-prime or composite using miller rabin test. Tests k times\n",
    "def is_prime(n, k=20): # miller-rabin test\n",
    "    if n == 2:\n",
    "        return True\n",
    "    for _ in range(k):\n",
    "        witness = 1\n",
    "        a = random.randint(2, n-1)\n",
    "        if gcd(a, n)[1] != 1:\n",
    "            return False\n",
    "        d = n-1\n",
    "        r = 0\n",
    "        while d % 2 == 0:\n",
    "            d = d//2\n",
    "            r += 1\n",
    "        s = int_pow_mod(a, d, n)\n",
    "        if s == 1:\n",
    "            witness = 0\n",
    "        for i in range(r):\n",
    "            if s == n-1:\n",
    "                witness = 0\n",
    "            s = s**2 % n\n",
    "        if witness == 1:\n",
    "            return False\n",
    "    return True\n",
    "\n",
    "def find_int_pow(N):\n",
    "    n = N.bit_length()\n",
    "    for i in range(2, n):\n",
    "        a = int_nth_root(N, i)\n",
    "        if int_pow(a, i) == N:\n",
    "            return a, i\n",
    "    return N, 1"
   ]
  },
  {
   "cell_type": "markdown",
   "metadata": {},
   "source": [
    "## Gépek"
   ]
  },
  {
   "cell_type": "code",
   "execution_count": 8,
   "metadata": {},
   "outputs": [],
   "source": [
    "simulator = qk.BasicAer.get_backend('qasm_simulator')\n",
    "real1 = least_busy(provider.backends(filters=lambda x: x.configuration().n_qubits > 3,\n",
    "                                            operational=True, simulator=False))\n",
    "real2 = least_busy(provider.backends(filters=lambda x: x.configuration().n_qubits > 3,\n",
    "                                            operational=True, simulator=False))"
   ]
  },
  {
   "cell_type": "markdown",
   "metadata": {},
   "source": [
    "## A kvantumáramkörhöz használt kapuk összeállítása"
   ]
  },
  {
   "cell_type": "code",
   "execution_count": 9,
   "metadata": {},
   "outputs": [],
   "source": [
    "def qft(n): # Quantum Fourier transform\n",
    "    qc = QuantumCircuit(n)\n",
    "    for i in range(int(n/2)):\n",
    "        qc.swap(i, n-i-1)\n",
    "    for i in range(n):\n",
    "        qc.h(i)\n",
    "        for j in range(i+1, n):\n",
    "            qc.cp(2*np.pi/2**(j-i+1), j, i)\n",
    "    circ = qc.to_gate()\n",
    "    circ.name = 'QFT{}'.format(n)\n",
    "    return circ"
   ]
  },
  {
   "cell_type": "code",
   "execution_count": 10,
   "metadata": {},
   "outputs": [],
   "source": [
    "def F_add(n, a): # addition in fourier basis\n",
    "    qc = QuantumCircuit(n)\n",
    "    a_bin = []\n",
    "    copy = a%(2**n)\n",
    "    for i in range(n):\n",
    "        a_bin.append(copy//2**(n-1-i))\n",
    "        \n",
    "        copy = copy % 2**(n-1-i)\n",
    "    #qc.append(qft(n), range(n))\n",
    "    rot = np.zeros(n)\n",
    "    for i in range(n):\n",
    "        if a_bin[n-i-1] == 1:\n",
    "            for j in range(n-i):\n",
    "                rot[n-j-i-1] += 2*np.pi/2**(j+1)\n",
    "    for i in range(n):\n",
    "        qc.p(rot[i], i)\n",
    "    #qc.append(qft(n).inverse(), range(n))\n",
    "    gate = qc.to_gate()\n",
    "    gate.name = '{}F_add{}'.format(n, a)\n",
    "    return gate"
   ]
  },
  {
   "cell_type": "code",
   "execution_count": 11,
   "metadata": {},
   "outputs": [],
   "source": [
    "# 0, 1: control | range(2, n+2): addition | n+2, n+3: auxiliary\n",
    "# adds in Fourier basis\n",
    "def c2_mod_add(a, N):\n",
    "    n = N.bit_length()\n",
    "    qc = QuantumCircuit(n+4)\n",
    "    qc.append(F_add(n+1, a).control(2), range(n+3))\n",
    "    qc.append(F_add(n+1, N).inverse(), range(2, n+3))\n",
    "    qc.append(qft(n+1).inverse(), range(2, n+3))\n",
    "    qc.cx(n+2, n+3)\n",
    "    qc.append(qft(n+1), range(2, n+3))\n",
    "    qc.append(F_add(n+1, N).control(), [n+3]+list(range(2, n+3)))\n",
    "    qc.append(F_add(n+1, a).inverse().control(2), range(n+3))\n",
    "    qc.append(qft(n+1).inverse(), range(2, n+3))\n",
    "    qc.x(n+2)\n",
    "    qc.cx(n+2, n+3)\n",
    "    qc.x(n+2)\n",
    "    qc.append(qft(n+1), range(2, n+3))\n",
    "    qc.append(F_add(n+1, a).control(2), range(n+3))\n",
    "    gate = qc.to_gate()\n",
    "    gate.name = 'cadd{}mod{}'.format(a,N)\n",
    "    return gate"
   ]
  },
  {
   "cell_type": "code",
   "execution_count": 12,
   "metadata": {},
   "outputs": [],
   "source": [
    "# 0: control | range(1, n+1): number to be multiplied | range(n+1, 2n+3): c_mod_add -> result\n",
    "def c_mod_mult(a, N): # multiplies by \"a\" modulo \"N\"\n",
    "    n = N.bit_length()\n",
    "    qc = QuantumCircuit(2*n+3)\n",
    "    qc.append(qft(n+1), range(n+1, 2*n+2))\n",
    "    for i in range(n):\n",
    "        mod = a*(2**i) % N\n",
    "        qc.append(c2_mod_add(mod, N), [0,i+1]+list(range(n+1, 2*n+3)))\n",
    "    qc.append(qft(n+1).inverse(), range(n+1, 2*n+2))\n",
    "    gate = qc.to_gate()\n",
    "    gate.name = 'cmult{}mod{}'.format(a, N)\n",
    "    return gate"
   ]
  },
  {
   "cell_type": "code",
   "execution_count": 13,
   "metadata": {},
   "outputs": [],
   "source": [
    "def gcd(m, n): # euclid's algorithm\n",
    "    a = max(m,n)\n",
    "    b = min(m,n)\n",
    "    if a%b == 0:\n",
    "        return a, b\n",
    "    c = a % b\n",
    "    return gcd(b, c) # c is the greatest common devisor\n",
    "\n",
    "def mod_inv(a, N): # a and N have to be coprime\n",
    "    if gcd(a, N)[1] != 1:\n",
    "        raise ValueError(\"a and N have to be coprime\")\n",
    "    a = a%N\n",
    "    k = [0, 1]\n",
    "    m = [N, a]\n",
    "    while m[1] != 1:\n",
    "        tmp = m[0]\n",
    "        p = tmp//m[1]\n",
    "        m[0] = m[1]\n",
    "        m[1] = tmp - p*m[1]\n",
    "        tmp1 = k[0]\n",
    "        k[0] = k[1]\n",
    "        k[1] = tmp1 - p*k[1]\n",
    "    return k[1]%N"
   ]
  },
  {
   "cell_type": "code",
   "execution_count": 14,
   "metadata": {},
   "outputs": [],
   "source": [
    "def swap():\n",
    "    qc = QuantumCircuit(2)\n",
    "    qc.swap(0, 1)\n",
    "    gate = qc.to_gate()\n",
    "    gate.name = 'swap'\n",
    "    return gate\n",
    "\n",
    "# 0: control | range(1, n+1): number to be multiplied | range(n+1, 2n+3): auxiliary       \n",
    "def c_U(a, N): # multiplies with 'a' mod N, 'a' and N have to be coprime\n",
    "    n = N.bit_length()\n",
    "    qc = QuantumCircuit(2*n+3)\n",
    "    qc.append(c_mod_mult(a, N), range(2*n+3))\n",
    "    for i in range(n):\n",
    "        qc.append(swap().control(), [0, i+1, n+i+1])\n",
    "    qc.append(c_mod_mult(mod_inv(a, N), N).inverse(), range(2*n+3))\n",
    "    gate = qc.to_gate()\n",
    "    gate.name = 'cU_{},{}'.format(N, a)\n",
    "    return gate"
   ]
  },
  {
   "cell_type": "code",
   "execution_count": 15,
   "metadata": {},
   "outputs": [],
   "source": [
    "# performs phase estimation on U gate\n",
    "def Shor_phase_est(a, N, cbits=3): # cbits: 2*n+bits control qubitet használ\n",
    "    n = N.bit_length()\n",
    "    qc = QuantumCircuit(4*n+2+cbits)\n",
    "    qc.x([2*n+cbits])\n",
    "    qc.h(range(2*n+cbits))\n",
    "    for i in range(2*n+cbits):\n",
    "        mod = two_pow_mod(a, i, N)\n",
    "        qc.append(c_U(mod, N), [2*n+cbits-1-i]+list(range(2*n+cbits, 4*n+2+cbits)))\n",
    "    for i in range(n+cbits//2):\n",
    "        qc.swap(i, 2*n+cbits-1-i)\n",
    "    qc.append(qft(2*n+cbits).inverse(), range(2*n+cbits))\n",
    "    gate = qc.to_gate()\n",
    "    gate.name = 'phase_est'\n",
    "    return gate"
   ]
  },
  {
   "cell_type": "markdown",
   "metadata": {},
   "source": [
    "## Perióduskereső algoritmus és Shor-algoritmus"
   ]
  },
  {
   "cell_type": "code",
   "execution_count": 34,
   "metadata": {},
   "outputs": [],
   "source": [
    "\n",
    "def order(a, N, device = Aer.get_backend('qasm_simulator'), cbits=3, basis_gates=None, noise_model=None): # order of a mod N \n",
    "    n = N.bit_length()\n",
    "    qc = QuantumCircuit(4*n+5,2*n+cbits)\n",
    "    qc.append(Shor_phase_est(a, N, cbits=cbits), range(4*n+2+cbits))\n",
    "    qc.measure(range(2*n+cbits), range(2*n+cbits))\n",
    "    m = 0\n",
    "    num = 1\n",
    "    i = 0\n",
    "    while (m != 1 or num == 0) and i < 50:\n",
    "        job = execute(qc, device, shots=1, basis_gates=basis_gates, noise_model=noise_model)\n",
    "        counts = job.result().get_counts()\n",
    "        estimate = 0\n",
    "        bits = list(list(counts)[0])\n",
    "        for j in range(2*n+cbits):\n",
    "            estimate += int(bits[j])*2**(2*n+cbits-1-j)\n",
    "        p, q = convergents(cont_frac(estimate, 2**(2*n+cbits)))\n",
    "        q = np.array(q, dtype = int)\n",
    "        p = np.array(p, dtype = int)\n",
    "        r = max(q[q <= N])\n",
    "        num = max(p[q <= N])\n",
    "        m = int_pow_mod(a, r, N)\n",
    "        \n",
    "        \n",
    "        # we have to make a correction if we found an even multiple of the period due to some error\n",
    "        while int_pow_mod(a, r//2, N) == 1 and r//2 != 0:\n",
    "            m = int_pow_mod(a, r//2, N)\n",
    "            r = r//2\n",
    "        i += 1\n",
    "        print('r:',r)\n",
    "        print('i:', i)\n",
    "        if i == 50:\n",
    "            raise RuntimeError\n",
    "        \n",
    "    return r, i"
   ]
  },
  {
   "cell_type": "code",
   "execution_count": 35,
   "metadata": {},
   "outputs": [],
   "source": [
    "def Shor(N, cbits=3): # Shor's algorithm, returns list with prime factors\n",
    "    factors = [] # we collect the factors here\n",
    "    \n",
    "    if is_prime(N, 20) == True: # cheking if N is prime\n",
    "        return [N]\n",
    "    \n",
    "    if N%2 == 0: # cheking if N is even\n",
    "        factors = [2] + Shor(N//2)\n",
    "        return factors\n",
    "    \n",
    "    base, power = find_int_pow(N)\n",
    "    if power != 1: # cheking if N is a power of a prime\n",
    "        factors = power * Shor(base)\n",
    "        factors.sort()\n",
    "        return factors\n",
    "    \n",
    "    r = 1\n",
    "    while r % 2 != 0 or int_pow_mod(a, r//2, N) == N-1:\n",
    "        a = random.randint(2, N-2)\n",
    "        print('a:',a)\n",
    "        if gcd(a, N)[1] != 1:  #cheking if N and a are coprime\n",
    "            devisor = gcd(a, N)[1]\n",
    "            factors = Shor(devisor) + Shor(N//devisor)\n",
    "            factors.sort()\n",
    "            return factors\n",
    "        \n",
    "        r, i = order(a, N, cbits=cbits) # returns order of 'a' mod N (quantum part)\n",
    "        h = int_pow_mod(a, r//2, N)\n",
    "        dev1 = gcd(N, h-1)[1]\n",
    "        dev2 = gcd(N, h+1)[1]\n",
    "        if (N % dev2 == 0) and (dev2 != 1) and (N != dev2):\n",
    "            factors = Shor(dev2) + Shor(N//dev2)\n",
    "            factors.sort()\n",
    "            return factors\n",
    "        elif (N % dev1) == 0 and (dev1 != 1) and (N != dev1):\n",
    "            factors = Shor(dev1) + Shor(N//dev1)\n",
    "            factors.sort()\n",
    "            return factors"
   ]
  },
  {
   "cell_type": "code",
   "execution_count": 36,
   "metadata": {},
   "outputs": [
    {
     "name": "stdout",
     "output_type": "stream",
     "text": [
      "a: 16\n",
      "r: 1\n",
      "i: 1\n",
      "r: 3\n",
      "i: 2\n"
     ]
    },
    {
     "data": {
      "text/plain": [
       "[3, 7]"
      ]
     },
     "execution_count": 36,
     "metadata": {},
     "output_type": "execute_result"
    }
   ],
   "source": [
    "Shor(21, cbits=0)"
   ]
  },
  {
   "cell_type": "code",
   "execution_count": null,
   "metadata": {},
   "outputs": [],
   "source": []
  }
 ],
 "metadata": {
  "interpreter": {
   "hash": "1ec5abbd448eeb6d0243c44bc46c54b3bdfd616211a03677fc17b4719b2d56e3"
  },
  "kernelspec": {
   "display_name": "Python 3.8.5 64-bit ('base': conda)",
   "name": "python3"
  },
  "language_info": {
   "codemirror_mode": {
    "name": "ipython",
    "version": 3
   },
   "file_extension": ".py",
   "mimetype": "text/x-python",
   "name": "python",
   "nbconvert_exporter": "python",
   "pygments_lexer": "ipython3",
   "version": "3.8.5"
  }
 },
 "nbformat": 4,
 "nbformat_minor": 5
}
